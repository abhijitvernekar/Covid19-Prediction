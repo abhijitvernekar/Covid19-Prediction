{
 "cells": [
  {
   "cell_type": "code",
   "execution_count": 85,
   "id": "2495d734",
   "metadata": {},
   "outputs": [],
   "source": [
    "import pandas as pd\n",
    "import numpy as np\n",
    "import matplotlib.pyplot as plt\n",
    "import seaborn as sns"
   ]
  },
  {
   "cell_type": "code",
   "execution_count": 86,
   "id": "5b90c944",
   "metadata": {},
   "outputs": [],
   "source": [
    "import warnings\n",
    "warnings.filterwarnings(\"ignore\") # ignoring wranings\n",
    "# it is imporat when we are done with project otherwise do not call this and try to understand the warnings.\n",
    "### Machine Learning libraries\n",
    "from sklearn.model_selection import train_test_split\n",
    "from sklearn.preprocessing import StandardScaler\n",
    "from sklearn.linear_model import LogisticRegression\n",
    "from sklearn.metrics import confusion_matrix, accuracy_score, precision_score, recall_score, fbeta_score\n",
    "from sklearn.preprocessing import LabelEncoder"
   ]
  },
  {
   "cell_type": "code",
   "execution_count": 87,
   "id": "459ff170",
   "metadata": {},
   "outputs": [],
   "source": [
    "df_raw = pd.read_csv('E:/downloads/corona_tested_006.csv')"
   ]
  },
  {
   "cell_type": "markdown",
   "id": "179fae4e",
   "metadata": {},
   "source": [
    "# Exploratory Data Analysis"
   ]
  },
  {
   "cell_type": "code",
   "execution_count": 88,
   "id": "e5b16279",
   "metadata": {},
   "outputs": [
    {
     "data": {
      "text/html": [
       "<div>\n",
       "<style scoped>\n",
       "    .dataframe tbody tr th:only-of-type {\n",
       "        vertical-align: middle;\n",
       "    }\n",
       "\n",
       "    .dataframe tbody tr th {\n",
       "        vertical-align: top;\n",
       "    }\n",
       "\n",
       "    .dataframe thead th {\n",
       "        text-align: right;\n",
       "    }\n",
       "</style>\n",
       "<table border=\"1\" class=\"dataframe\">\n",
       "  <thead>\n",
       "    <tr style=\"text-align: right;\">\n",
       "      <th></th>\n",
       "      <th>Ind_ID</th>\n",
       "      <th>Test_date</th>\n",
       "      <th>Cough_symptoms</th>\n",
       "      <th>Fever</th>\n",
       "      <th>Sore_throat</th>\n",
       "      <th>Shortness_of_breath</th>\n",
       "      <th>Headache</th>\n",
       "      <th>Corona</th>\n",
       "      <th>Age_60_above</th>\n",
       "      <th>Sex</th>\n",
       "      <th>Known_contact</th>\n",
       "    </tr>\n",
       "  </thead>\n",
       "  <tbody>\n",
       "    <tr>\n",
       "      <th>0</th>\n",
       "      <td>1</td>\n",
       "      <td>11-03-2020</td>\n",
       "      <td>TRUE</td>\n",
       "      <td>FALSE</td>\n",
       "      <td>TRUE</td>\n",
       "      <td>FALSE</td>\n",
       "      <td>FALSE</td>\n",
       "      <td>negative</td>\n",
       "      <td>None</td>\n",
       "      <td>None</td>\n",
       "      <td>Abroad</td>\n",
       "    </tr>\n",
       "    <tr>\n",
       "      <th>1</th>\n",
       "      <td>2</td>\n",
       "      <td>11-03-2020</td>\n",
       "      <td>FALSE</td>\n",
       "      <td>TRUE</td>\n",
       "      <td>FALSE</td>\n",
       "      <td>FALSE</td>\n",
       "      <td>FALSE</td>\n",
       "      <td>positive</td>\n",
       "      <td>None</td>\n",
       "      <td>None</td>\n",
       "      <td>Abroad</td>\n",
       "    </tr>\n",
       "    <tr>\n",
       "      <th>2</th>\n",
       "      <td>3</td>\n",
       "      <td>11-03-2020</td>\n",
       "      <td>FALSE</td>\n",
       "      <td>TRUE</td>\n",
       "      <td>FALSE</td>\n",
       "      <td>FALSE</td>\n",
       "      <td>FALSE</td>\n",
       "      <td>positive</td>\n",
       "      <td>None</td>\n",
       "      <td>None</td>\n",
       "      <td>Abroad</td>\n",
       "    </tr>\n",
       "    <tr>\n",
       "      <th>3</th>\n",
       "      <td>4</td>\n",
       "      <td>11-03-2020</td>\n",
       "      <td>TRUE</td>\n",
       "      <td>FALSE</td>\n",
       "      <td>FALSE</td>\n",
       "      <td>FALSE</td>\n",
       "      <td>FALSE</td>\n",
       "      <td>negative</td>\n",
       "      <td>None</td>\n",
       "      <td>None</td>\n",
       "      <td>Abroad</td>\n",
       "    </tr>\n",
       "    <tr>\n",
       "      <th>4</th>\n",
       "      <td>5</td>\n",
       "      <td>11-03-2020</td>\n",
       "      <td>TRUE</td>\n",
       "      <td>FALSE</td>\n",
       "      <td>FALSE</td>\n",
       "      <td>FALSE</td>\n",
       "      <td>FALSE</td>\n",
       "      <td>negative</td>\n",
       "      <td>None</td>\n",
       "      <td>None</td>\n",
       "      <td>Contact with confirmed</td>\n",
       "    </tr>\n",
       "  </tbody>\n",
       "</table>\n",
       "</div>"
      ],
      "text/plain": [
       "   Ind_ID   Test_date Cough_symptoms  Fever Sore_throat Shortness_of_breath  \\\n",
       "0       1  11-03-2020           TRUE  FALSE        TRUE               FALSE   \n",
       "1       2  11-03-2020          FALSE   TRUE       FALSE               FALSE   \n",
       "2       3  11-03-2020          FALSE   TRUE       FALSE               FALSE   \n",
       "3       4  11-03-2020           TRUE  FALSE       FALSE               FALSE   \n",
       "4       5  11-03-2020           TRUE  FALSE       FALSE               FALSE   \n",
       "\n",
       "  Headache    Corona Age_60_above   Sex           Known_contact  \n",
       "0    FALSE  negative         None  None                  Abroad  \n",
       "1    FALSE  positive         None  None                  Abroad  \n",
       "2    FALSE  positive         None  None                  Abroad  \n",
       "3    FALSE  negative         None  None                  Abroad  \n",
       "4    FALSE  negative         None  None  Contact with confirmed  "
      ]
     },
     "execution_count": 88,
     "metadata": {},
     "output_type": "execute_result"
    }
   ],
   "source": [
    "df_raw.head()"
   ]
  },
  {
   "cell_type": "code",
   "execution_count": 89,
   "id": "a5764cb6",
   "metadata": {},
   "outputs": [
    {
     "name": "stdout",
     "output_type": "stream",
     "text": [
      "<class 'pandas.core.frame.DataFrame'>\n",
      "RangeIndex: 278848 entries, 0 to 278847\n",
      "Data columns (total 11 columns):\n",
      " #   Column               Non-Null Count   Dtype \n",
      "---  ------               --------------   ----- \n",
      " 0   Ind_ID               278848 non-null  int64 \n",
      " 1   Test_date            278848 non-null  object\n",
      " 2   Cough_symptoms       278848 non-null  object\n",
      " 3   Fever                278848 non-null  object\n",
      " 4   Sore_throat          278848 non-null  object\n",
      " 5   Shortness_of_breath  278848 non-null  object\n",
      " 6   Headache             278848 non-null  object\n",
      " 7   Corona               278848 non-null  object\n",
      " 8   Age_60_above         278848 non-null  object\n",
      " 9   Sex                  278848 non-null  object\n",
      " 10  Known_contact        278848 non-null  object\n",
      "dtypes: int64(1), object(10)\n",
      "memory usage: 23.4+ MB\n"
     ]
    }
   ],
   "source": [
    "df_raw.info()"
   ]
  },
  {
   "cell_type": "code",
   "execution_count": 90,
   "id": "f7c3e68c",
   "metadata": {},
   "outputs": [
    {
     "data": {
      "text/plain": [
       "Ind_ID                  int64\n",
       "Test_date              object\n",
       "Cough_symptoms         object\n",
       "Fever                  object\n",
       "Sore_throat            object\n",
       "Shortness_of_breath    object\n",
       "Headache               object\n",
       "Corona                 object\n",
       "Age_60_above           object\n",
       "Sex                    object\n",
       "Known_contact          object\n",
       "dtype: object"
      ]
     },
     "execution_count": 90,
     "metadata": {},
     "output_type": "execute_result"
    }
   ],
   "source": [
    "df_raw.dtypes"
   ]
  },
  {
   "cell_type": "code",
   "execution_count": 91,
   "id": "aeff2be1",
   "metadata": {},
   "outputs": [
    {
     "data": {
      "text/plain": [
       "Ind_ID                 278848\n",
       "Test_date                  51\n",
       "Cough_symptoms              5\n",
       "Fever                       5\n",
       "Sore_throat                 5\n",
       "Shortness_of_breath         5\n",
       "Headache                    5\n",
       "Corona                      3\n",
       "Age_60_above                3\n",
       "Sex                         3\n",
       "Known_contact               3\n",
       "dtype: int64"
      ]
     },
     "execution_count": 91,
     "metadata": {},
     "output_type": "execute_result"
    }
   ],
   "source": [
    "df_raw.nunique()"
   ]
  },
  {
   "cell_type": "code",
   "execution_count": 92,
   "id": "3a926167",
   "metadata": {},
   "outputs": [],
   "source": [
    " df_raw = df_raw.replace({True:\"TRUE\",False:\"FALSE\"})"
   ]
  },
  {
   "cell_type": "code",
   "execution_count": 93,
   "id": "c29bdb1f",
   "metadata": {},
   "outputs": [
    {
     "data": {
      "text/plain": [
       "array(['TRUE', 'FALSE', 'None'], dtype=object)"
      ]
     },
     "execution_count": 93,
     "metadata": {},
     "output_type": "execute_result"
    }
   ],
   "source": [
    "df_raw.Cough_symptoms.unique()"
   ]
  },
  {
   "cell_type": "code",
   "execution_count": 94,
   "id": "1ed01f41",
   "metadata": {},
   "outputs": [
    {
     "data": {
      "text/plain": [
       "Ind_ID                 278848\n",
       "Test_date                  51\n",
       "Cough_symptoms              3\n",
       "Fever                       3\n",
       "Sore_throat                 3\n",
       "Shortness_of_breath         3\n",
       "Headache                    3\n",
       "Corona                      3\n",
       "Age_60_above                3\n",
       "Sex                         3\n",
       "Known_contact               3\n",
       "dtype: int64"
      ]
     },
     "execution_count": 94,
     "metadata": {},
     "output_type": "execute_result"
    }
   ],
   "source": [
    "df_raw.nunique()"
   ]
  },
  {
   "cell_type": "code",
   "execution_count": 95,
   "id": "5f553480",
   "metadata": {},
   "outputs": [
    {
     "name": "stdout",
     "output_type": "stream",
     "text": [
      "unique values in Cough_symptoms : ['TRUE' 'FALSE' 'None']\n",
      "unique values in Fever : ['FALSE' 'TRUE' 'None']\n",
      "unique values in Sore_throat : ['TRUE' 'FALSE' 'None']\n",
      "unique values in Shortness_of_breath : ['FALSE' 'TRUE' 'None']\n",
      "unique values in Headache : ['FALSE' 'TRUE' 'None']\n",
      "unique values in Corona : ['negative' 'positive' 'other']\n",
      "unique values in Age_60_above : ['None' 'No' 'Yes']\n",
      "unique values in Sex : ['None' 'male' 'female']\n",
      "unique values in Known_contact : ['Abroad' 'Contact with confirmed' 'Other']\n"
     ]
    }
   ],
   "source": [
    "# verifying unique values in each column\n",
    "for column in df_raw.columns:\n",
    "    if column not in [\"Test_date\",\"Ind_ID\"]:\n",
    "        print(f\"unique values in {column} : {df_raw[column].unique()}\")"
   ]
  },
  {
   "cell_type": "code",
   "execution_count": 96,
   "id": "2a4fb0cb",
   "metadata": {},
   "outputs": [
    {
     "data": {
      "text/plain": [
       "<AxesSubplot:xlabel='Cough_symptoms', ylabel='Count'>"
      ]
     },
     "execution_count": 96,
     "metadata": {},
     "output_type": "execute_result"
    },
    {
     "data": {
      "image/png": "[encoded data removed]",
      "text/plain": [
       "<Figure size 640x480 with 1 Axes>"
      ]
     },
     "metadata": {},
     "output_type": "display_data"
    }
   ],
   "source": [
    "sns.histplot(df_raw['Cough_symptoms'])"
   ]
  },
  {
   "cell_type": "code",
   "execution_count": 102,
   "id": "80774d9b",
   "metadata": {},
   "outputs": [
    {
     "data": {
      "text/plain": [
       "<AxesSubplot:xlabel='Sex', ylabel='count'>"
      ]
     },
     "execution_count": 102,
     "metadata": {},
     "output_type": "execute_result"
    },
    {
     "data": {
      "image/png": "[encoded data removed]",
      "text/plain": [
       "<Figure size 640x480 with 1 Axes>"
      ]
     },
     "metadata": {},
     "output_type": "display_data"
    }
   ],
   "source": [
    "sns.countplot(df['Sex'],hue = df['Corona'])"
   ]
  },
  {
   "cell_type": "code",
   "execution_count": 103,
   "id": "1bcb57f6",
   "metadata": {},
   "outputs": [
    {
     "data": {
      "text/plain": [
       "<AxesSubplot:xlabel='Cough_symptoms', ylabel='count'>"
      ]
     },
     "execution_count": 103,
     "metadata": {},
     "output_type": "execute_result"
    },
    {
     "data": {
      "image/png": "[encoded data removed]",
      "text/plain": [
       "<Figure size 640x480 with 1 Axes>"
      ]
     },
     "metadata": {},
     "output_type": "display_data"
    }
   ],
   "source": [
    "sns.countplot(df['Cough_symptoms'],hue = df['Corona'])"
   ]
  },
  {
   "cell_type": "code",
   "execution_count": 104,
   "id": "618c46d4",
   "metadata": {},
   "outputs": [
    {
     "data": {
      "text/plain": [
       "<AxesSubplot:xlabel='Fever', ylabel='count'>"
      ]
     },
     "execution_count": 104,
     "metadata": {},
     "output_type": "execute_result"
    },
    {
     "data": {
      "image/png": "[encoded data removed]",
      "text/plain": [
       "<Figure size 640x480 with 1 Axes>"
      ]
     },
     "metadata": {},
     "output_type": "display_data"
    }
   ],
   "source": [
    "sns.countplot(df['Fever'],hue = df['Corona'])"
   ]
  },
  {
   "cell_type": "code",
   "execution_count": 106,
   "id": "70b51fd1",
   "metadata": {},
   "outputs": [
    {
     "data": {
      "text/plain": [
       "<AxesSubplot:xlabel='Age_60_above', ylabel='count'>"
      ]
     },
     "execution_count": 106,
     "metadata": {},
     "output_type": "execute_result"
    },
    {
     "data": {
      "image/png": "[encoded data removed]",
      "text/plain": [
       "<Figure size 640x480 with 1 Axes>"
      ]
     },
     "metadata": {},
     "output_type": "display_data"
    }
   ],
   "source": [
    "sns.countplot(df['Age_60_above'],hue = df['Corona'])"
   ]
  },
  {
   "cell_type": "code",
   "execution_count": 30,
   "id": "f9bb608c",
   "metadata": {},
   "outputs": [],
   "source": [
    "df_raw = df_raw.replace({'None':np.nan})"
   ]
  },
  {
   "cell_type": "code",
   "execution_count": 31,
   "id": "86701a42",
   "metadata": {},
   "outputs": [
    {
     "data": {
      "text/plain": [
       "Ind_ID                      0\n",
       "Test_date                   0\n",
       "Cough_symptoms              0\n",
       "Fever                       0\n",
       "Sore_throat                 0\n",
       "Shortness_of_breath         0\n",
       "Headache                    0\n",
       "Corona                      0\n",
       "Age_60_above           125659\n",
       "Sex                     19034\n",
       "Known_contact               0\n",
       "dtype: int64"
      ]
     },
     "execution_count": 31,
     "metadata": {},
     "output_type": "execute_result"
    }
   ],
   "source": [
    "df_raw.isnull().sum()"
   ]
  },
  {
   "cell_type": "code",
   "execution_count": 32,
   "id": "a773b516",
   "metadata": {},
   "outputs": [],
   "source": [
    "df_raw = df_raw.dropna(subset = ['Sore_throat','Shortness_of_breath','Headache','Cough_symptoms','Fever'])"
   ]
  },
  {
   "cell_type": "code",
   "execution_count": 33,
   "id": "23e4b9cc",
   "metadata": {},
   "outputs": [
    {
     "data": {
      "text/plain": [
       "Ind_ID                      0\n",
       "Test_date                   0\n",
       "Cough_symptoms              0\n",
       "Fever                       0\n",
       "Sore_throat                 0\n",
       "Shortness_of_breath         0\n",
       "Headache                    0\n",
       "Corona                      0\n",
       "Age_60_above           125659\n",
       "Sex                     19034\n",
       "Known_contact               0\n",
       "dtype: int64"
      ]
     },
     "execution_count": 33,
     "metadata": {},
     "output_type": "execute_result"
    }
   ],
   "source": [
    "df_raw.isnull().sum()"
   ]
  },
  {
   "cell_type": "code",
   "execution_count": 34,
   "id": "4313ef6a",
   "metadata": {},
   "outputs": [],
   "source": [
    "index = df_raw[(df_raw['Corona']=='other')].index\n",
    "df_raw.drop(index,inplace = True)"
   ]
  },
  {
   "cell_type": "code",
   "execution_count": 35,
   "id": "c9fd18c7",
   "metadata": {},
   "outputs": [
    {
     "data": {
      "text/plain": [
       "Ind_ID                      0\n",
       "Test_date                   0\n",
       "Cough_symptoms              0\n",
       "Fever                       0\n",
       "Sore_throat                 0\n",
       "Shortness_of_breath         0\n",
       "Headache                    0\n",
       "Corona                      0\n",
       "Age_60_above           125659\n",
       "Sex                     19034\n",
       "Known_contact               0\n",
       "dtype: int64"
      ]
     },
     "execution_count": 35,
     "metadata": {},
     "output_type": "execute_result"
    }
   ],
   "source": [
    "df_raw.isnull().sum()"
   ]
  },
  {
   "cell_type": "code",
   "execution_count": 37,
   "id": "d13f7910",
   "metadata": {},
   "outputs": [
    {
     "name": "stdout",
     "output_type": "stream",
     "text": [
      "Feature: Cough_symptoms with ['TRUE' 'FALSE'] Levels\n",
      "Feature: Fever with ['FALSE' 'TRUE'] Levels\n",
      "Feature: Sore_throat with ['TRUE' 'FALSE'] Levels\n",
      "Feature: Shortness_of_breath with ['FALSE' 'TRUE'] Levels\n",
      "Feature: Headache with ['FALSE' 'TRUE'] Levels\n",
      "Feature: Corona with ['negative' 'positive'] Levels\n",
      "Feature: Age_60_above with [nan 'No' 'Yes'] Levels\n",
      "Feature: Sex with [nan 'male' 'female'] Levels\n",
      "Feature: Known_contact with ['Abroad' 'Contact with confirmed' 'Other'] Levels\n"
     ]
    }
   ],
   "source": [
    "def show(data):\n",
    "  for i in data.columns[2:]:\n",
    "    print(\"Feature: {} with {} Levels\".format(i,data[i].unique()))\n",
    "\n",
    "show(df_raw)\n",
    "df = df_raw.copy()"
   ]
  },
  {
   "cell_type": "code",
   "execution_count": 28,
   "id": "669fae89",
   "metadata": {},
   "outputs": [],
   "source": [
    "df_raw = df.copy()"
   ]
  },
  {
   "cell_type": "code",
   "execution_count": 38,
   "id": "d92b9394",
   "metadata": {},
   "outputs": [],
   "source": [
    "# label encoding\n",
    "df_raw['Cough_symptoms'] = df_raw['Cough_symptoms'].map({'FALSE': 0, 'TRUE': 1})\n",
    "df_raw['Fever'] = df_raw['Fever'].map({'FALSE': 0, 'TRUE': 1})\n",
    "df_raw['Sore_throat'] = df_raw['Sore_throat'].map({'FALSE': 0, 'TRUE': 1})\n",
    "df_raw['Shortness_of_breath'] = df_raw['Shortness_of_breath'].map({'FALSE': 0, 'TRUE': 1})\n",
    "df_raw['Headache'] = df_raw['Headache'].map({'FALSE': 0, 'TRUE': 1})\n",
    "df_raw['Corona'] = df_raw['Corona'].map({'negative': 0, 'positive': 1})\n",
    "df_raw['Sex'] = df_raw['Sex'].map({'female': 0, 'male': 1})\n",
    "df_raw['Age_60_above'] = df_raw['Age_60_above'].map({'No': 0, 'Yes': 1})"
   ]
  },
  {
   "cell_type": "code",
   "execution_count": 39,
   "id": "366447b8",
   "metadata": {},
   "outputs": [
    {
     "data": {
      "text/html": [
       "<div>\n",
       "<style scoped>\n",
       "    .dataframe tbody tr th:only-of-type {\n",
       "        vertical-align: middle;\n",
       "    }\n",
       "\n",
       "    .dataframe tbody tr th {\n",
       "        vertical-align: top;\n",
       "    }\n",
       "\n",
       "    .dataframe thead th {\n",
       "        text-align: right;\n",
       "    }\n",
       "</style>\n",
       "<table border=\"1\" class=\"dataframe\">\n",
       "  <thead>\n",
       "    <tr style=\"text-align: right;\">\n",
       "      <th></th>\n",
       "      <th>Ind_ID</th>\n",
       "      <th>Test_date</th>\n",
       "      <th>Cough_symptoms</th>\n",
       "      <th>Fever</th>\n",
       "      <th>Sore_throat</th>\n",
       "      <th>Shortness_of_breath</th>\n",
       "      <th>Headache</th>\n",
       "      <th>Corona</th>\n",
       "      <th>Age_60_above</th>\n",
       "      <th>Sex</th>\n",
       "      <th>Known_contact</th>\n",
       "    </tr>\n",
       "  </thead>\n",
       "  <tbody>\n",
       "    <tr>\n",
       "      <th>0</th>\n",
       "      <td>1</td>\n",
       "      <td>11-03-2020</td>\n",
       "      <td>1</td>\n",
       "      <td>0</td>\n",
       "      <td>1</td>\n",
       "      <td>0</td>\n",
       "      <td>0</td>\n",
       "      <td>0</td>\n",
       "      <td>NaN</td>\n",
       "      <td>NaN</td>\n",
       "      <td>Abroad</td>\n",
       "    </tr>\n",
       "    <tr>\n",
       "      <th>1</th>\n",
       "      <td>2</td>\n",
       "      <td>11-03-2020</td>\n",
       "      <td>0</td>\n",
       "      <td>1</td>\n",
       "      <td>0</td>\n",
       "      <td>0</td>\n",
       "      <td>0</td>\n",
       "      <td>1</td>\n",
       "      <td>NaN</td>\n",
       "      <td>NaN</td>\n",
       "      <td>Abroad</td>\n",
       "    </tr>\n",
       "    <tr>\n",
       "      <th>2</th>\n",
       "      <td>3</td>\n",
       "      <td>11-03-2020</td>\n",
       "      <td>0</td>\n",
       "      <td>1</td>\n",
       "      <td>0</td>\n",
       "      <td>0</td>\n",
       "      <td>0</td>\n",
       "      <td>1</td>\n",
       "      <td>NaN</td>\n",
       "      <td>NaN</td>\n",
       "      <td>Abroad</td>\n",
       "    </tr>\n",
       "    <tr>\n",
       "      <th>3</th>\n",
       "      <td>4</td>\n",
       "      <td>11-03-2020</td>\n",
       "      <td>1</td>\n",
       "      <td>0</td>\n",
       "      <td>0</td>\n",
       "      <td>0</td>\n",
       "      <td>0</td>\n",
       "      <td>0</td>\n",
       "      <td>NaN</td>\n",
       "      <td>NaN</td>\n",
       "      <td>Abroad</td>\n",
       "    </tr>\n",
       "    <tr>\n",
       "      <th>4</th>\n",
       "      <td>5</td>\n",
       "      <td>11-03-2020</td>\n",
       "      <td>1</td>\n",
       "      <td>0</td>\n",
       "      <td>0</td>\n",
       "      <td>0</td>\n",
       "      <td>0</td>\n",
       "      <td>0</td>\n",
       "      <td>NaN</td>\n",
       "      <td>NaN</td>\n",
       "      <td>Contact with confirmed</td>\n",
       "    </tr>\n",
       "  </tbody>\n",
       "</table>\n",
       "</div>"
      ],
      "text/plain": [
       "   Ind_ID   Test_date  Cough_symptoms  Fever  Sore_throat  \\\n",
       "0       1  11-03-2020               1      0            1   \n",
       "1       2  11-03-2020               0      1            0   \n",
       "2       3  11-03-2020               0      1            0   \n",
       "3       4  11-03-2020               1      0            0   \n",
       "4       5  11-03-2020               1      0            0   \n",
       "\n",
       "   Shortness_of_breath  Headache  Corona  Age_60_above  Sex  \\\n",
       "0                    0         0       0           NaN  NaN   \n",
       "1                    0         0       1           NaN  NaN   \n",
       "2                    0         0       1           NaN  NaN   \n",
       "3                    0         0       0           NaN  NaN   \n",
       "4                    0         0       0           NaN  NaN   \n",
       "\n",
       "            Known_contact  \n",
       "0                  Abroad  \n",
       "1                  Abroad  \n",
       "2                  Abroad  \n",
       "3                  Abroad  \n",
       "4  Contact with confirmed  "
      ]
     },
     "execution_count": 39,
     "metadata": {},
     "output_type": "execute_result"
    }
   ],
   "source": [
    "df_raw.head()"
   ]
  },
  {
   "cell_type": "code",
   "execution_count": 40,
   "id": "c4f8efbb",
   "metadata": {},
   "outputs": [
    {
     "data": {
      "text/plain": [
       "Ind_ID                      0\n",
       "Test_date                   0\n",
       "Cough_symptoms              0\n",
       "Fever                       0\n",
       "Sore_throat                 0\n",
       "Shortness_of_breath         0\n",
       "Headache                    0\n",
       "Corona                      0\n",
       "Age_60_above           125659\n",
       "Sex                     19034\n",
       "Known_contact               0\n",
       "dtype: int64"
      ]
     },
     "execution_count": 40,
     "metadata": {},
     "output_type": "execute_result"
    }
   ],
   "source": [
    "df_raw.isnull().sum()\n"
   ]
  },
  {
   "cell_type": "code",
   "execution_count": 120,
   "id": "93d496d0",
   "metadata": {},
   "outputs": [
    {
     "data": {
      "text/plain": [
       "3892"
      ]
     },
     "execution_count": 120,
     "metadata": {},
     "output_type": "execute_result"
    }
   ],
   "source": [
    "df_raw[\"Corona\"].isnull().sum()\n"
   ]
  },
  {
   "cell_type": "code",
   "execution_count": 41,
   "id": "822aba4b",
   "metadata": {},
   "outputs": [
    {
     "data": {
      "text/plain": [
       "0"
      ]
     },
     "execution_count": 41,
     "metadata": {},
     "output_type": "execute_result"
    }
   ],
   "source": [
    "# removing null values from target variable\n",
    "df_raw = df_raw.dropna(subset = \"Corona\")\n",
    "df_raw[\"Corona\"].isnull().sum()"
   ]
  },
  {
   "cell_type": "code",
   "execution_count": 42,
   "id": "7b67f798",
   "metadata": {},
   "outputs": [],
   "source": [
    "# onehotencoding\n",
    "\n",
    "df_raw['Known_contact'] = df_raw['Known_contact'].map({'Contact with confirmed':'contact_with_confirmed','Abroad':'abroad','Other':'other'})"
   ]
  },
  {
   "cell_type": "code",
   "execution_count": 43,
   "id": "4a0913c2",
   "metadata": {},
   "outputs": [],
   "source": [
    "df_raw  = pd.get_dummies(df_raw,columns = ['Known_contact'])"
   ]
  },
  {
   "cell_type": "code",
   "execution_count": 44,
   "id": "f8a89fe7",
   "metadata": {},
   "outputs": [
    {
     "data": {
      "text/html": [
       "<div>\n",
       "<style scoped>\n",
       "    .dataframe tbody tr th:only-of-type {\n",
       "        vertical-align: middle;\n",
       "    }\n",
       "\n",
       "    .dataframe tbody tr th {\n",
       "        vertical-align: top;\n",
       "    }\n",
       "\n",
       "    .dataframe thead th {\n",
       "        text-align: right;\n",
       "    }\n",
       "</style>\n",
       "<table border=\"1\" class=\"dataframe\">\n",
       "  <thead>\n",
       "    <tr style=\"text-align: right;\">\n",
       "      <th></th>\n",
       "      <th>Ind_ID</th>\n",
       "      <th>Test_date</th>\n",
       "      <th>Cough_symptoms</th>\n",
       "      <th>Fever</th>\n",
       "      <th>Sore_throat</th>\n",
       "      <th>Shortness_of_breath</th>\n",
       "      <th>Headache</th>\n",
       "      <th>Corona</th>\n",
       "      <th>Age_60_above</th>\n",
       "      <th>Sex</th>\n",
       "      <th>Known_contact_abroad</th>\n",
       "      <th>Known_contact_contact_with_confirmed</th>\n",
       "      <th>Known_contact_other</th>\n",
       "    </tr>\n",
       "  </thead>\n",
       "  <tbody>\n",
       "    <tr>\n",
       "      <th>0</th>\n",
       "      <td>1</td>\n",
       "      <td>11-03-2020</td>\n",
       "      <td>1</td>\n",
       "      <td>0</td>\n",
       "      <td>1</td>\n",
       "      <td>0</td>\n",
       "      <td>0</td>\n",
       "      <td>0</td>\n",
       "      <td>NaN</td>\n",
       "      <td>NaN</td>\n",
       "      <td>1</td>\n",
       "      <td>0</td>\n",
       "      <td>0</td>\n",
       "    </tr>\n",
       "    <tr>\n",
       "      <th>1</th>\n",
       "      <td>2</td>\n",
       "      <td>11-03-2020</td>\n",
       "      <td>0</td>\n",
       "      <td>1</td>\n",
       "      <td>0</td>\n",
       "      <td>0</td>\n",
       "      <td>0</td>\n",
       "      <td>1</td>\n",
       "      <td>NaN</td>\n",
       "      <td>NaN</td>\n",
       "      <td>1</td>\n",
       "      <td>0</td>\n",
       "      <td>0</td>\n",
       "    </tr>\n",
       "    <tr>\n",
       "      <th>2</th>\n",
       "      <td>3</td>\n",
       "      <td>11-03-2020</td>\n",
       "      <td>0</td>\n",
       "      <td>1</td>\n",
       "      <td>0</td>\n",
       "      <td>0</td>\n",
       "      <td>0</td>\n",
       "      <td>1</td>\n",
       "      <td>NaN</td>\n",
       "      <td>NaN</td>\n",
       "      <td>1</td>\n",
       "      <td>0</td>\n",
       "      <td>0</td>\n",
       "    </tr>\n",
       "    <tr>\n",
       "      <th>3</th>\n",
       "      <td>4</td>\n",
       "      <td>11-03-2020</td>\n",
       "      <td>1</td>\n",
       "      <td>0</td>\n",
       "      <td>0</td>\n",
       "      <td>0</td>\n",
       "      <td>0</td>\n",
       "      <td>0</td>\n",
       "      <td>NaN</td>\n",
       "      <td>NaN</td>\n",
       "      <td>1</td>\n",
       "      <td>0</td>\n",
       "      <td>0</td>\n",
       "    </tr>\n",
       "    <tr>\n",
       "      <th>4</th>\n",
       "      <td>5</td>\n",
       "      <td>11-03-2020</td>\n",
       "      <td>1</td>\n",
       "      <td>0</td>\n",
       "      <td>0</td>\n",
       "      <td>0</td>\n",
       "      <td>0</td>\n",
       "      <td>0</td>\n",
       "      <td>NaN</td>\n",
       "      <td>NaN</td>\n",
       "      <td>0</td>\n",
       "      <td>1</td>\n",
       "      <td>0</td>\n",
       "    </tr>\n",
       "    <tr>\n",
       "      <th>...</th>\n",
       "      <td>...</td>\n",
       "      <td>...</td>\n",
       "      <td>...</td>\n",
       "      <td>...</td>\n",
       "      <td>...</td>\n",
       "      <td>...</td>\n",
       "      <td>...</td>\n",
       "      <td>...</td>\n",
       "      <td>...</td>\n",
       "      <td>...</td>\n",
       "      <td>...</td>\n",
       "      <td>...</td>\n",
       "      <td>...</td>\n",
       "    </tr>\n",
       "    <tr>\n",
       "      <th>278843</th>\n",
       "      <td>278844</td>\n",
       "      <td>30-04-2020</td>\n",
       "      <td>0</td>\n",
       "      <td>0</td>\n",
       "      <td>0</td>\n",
       "      <td>0</td>\n",
       "      <td>0</td>\n",
       "      <td>1</td>\n",
       "      <td>NaN</td>\n",
       "      <td>1.0</td>\n",
       "      <td>0</td>\n",
       "      <td>0</td>\n",
       "      <td>1</td>\n",
       "    </tr>\n",
       "    <tr>\n",
       "      <th>278844</th>\n",
       "      <td>278845</td>\n",
       "      <td>30-04-2020</td>\n",
       "      <td>0</td>\n",
       "      <td>0</td>\n",
       "      <td>0</td>\n",
       "      <td>0</td>\n",
       "      <td>0</td>\n",
       "      <td>0</td>\n",
       "      <td>NaN</td>\n",
       "      <td>0.0</td>\n",
       "      <td>0</td>\n",
       "      <td>0</td>\n",
       "      <td>1</td>\n",
       "    </tr>\n",
       "    <tr>\n",
       "      <th>278845</th>\n",
       "      <td>278846</td>\n",
       "      <td>30-04-2020</td>\n",
       "      <td>0</td>\n",
       "      <td>0</td>\n",
       "      <td>0</td>\n",
       "      <td>0</td>\n",
       "      <td>0</td>\n",
       "      <td>0</td>\n",
       "      <td>NaN</td>\n",
       "      <td>1.0</td>\n",
       "      <td>0</td>\n",
       "      <td>0</td>\n",
       "      <td>1</td>\n",
       "    </tr>\n",
       "    <tr>\n",
       "      <th>278846</th>\n",
       "      <td>278847</td>\n",
       "      <td>30-04-2020</td>\n",
       "      <td>0</td>\n",
       "      <td>0</td>\n",
       "      <td>0</td>\n",
       "      <td>0</td>\n",
       "      <td>0</td>\n",
       "      <td>0</td>\n",
       "      <td>NaN</td>\n",
       "      <td>1.0</td>\n",
       "      <td>0</td>\n",
       "      <td>0</td>\n",
       "      <td>1</td>\n",
       "    </tr>\n",
       "    <tr>\n",
       "      <th>278847</th>\n",
       "      <td>278848</td>\n",
       "      <td>30-04-2020</td>\n",
       "      <td>0</td>\n",
       "      <td>0</td>\n",
       "      <td>0</td>\n",
       "      <td>0</td>\n",
       "      <td>0</td>\n",
       "      <td>0</td>\n",
       "      <td>NaN</td>\n",
       "      <td>0.0</td>\n",
       "      <td>0</td>\n",
       "      <td>0</td>\n",
       "      <td>1</td>\n",
       "    </tr>\n",
       "  </tbody>\n",
       "</table>\n",
       "<p>274702 rows × 13 columns</p>\n",
       "</div>"
      ],
      "text/plain": [
       "        Ind_ID   Test_date  Cough_symptoms  Fever  Sore_throat  \\\n",
       "0            1  11-03-2020               1      0            1   \n",
       "1            2  11-03-2020               0      1            0   \n",
       "2            3  11-03-2020               0      1            0   \n",
       "3            4  11-03-2020               1      0            0   \n",
       "4            5  11-03-2020               1      0            0   \n",
       "...        ...         ...             ...    ...          ...   \n",
       "278843  278844  30-04-2020               0      0            0   \n",
       "278844  278845  30-04-2020               0      0            0   \n",
       "278845  278846  30-04-2020               0      0            0   \n",
       "278846  278847  30-04-2020               0      0            0   \n",
       "278847  278848  30-04-2020               0      0            0   \n",
       "\n",
       "        Shortness_of_breath  Headache  Corona  Age_60_above  Sex  \\\n",
       "0                         0         0       0           NaN  NaN   \n",
       "1                         0         0       1           NaN  NaN   \n",
       "2                         0         0       1           NaN  NaN   \n",
       "3                         0         0       0           NaN  NaN   \n",
       "4                         0         0       0           NaN  NaN   \n",
       "...                     ...       ...     ...           ...  ...   \n",
       "278843                    0         0       1           NaN  1.0   \n",
       "278844                    0         0       0           NaN  0.0   \n",
       "278845                    0         0       0           NaN  1.0   \n",
       "278846                    0         0       0           NaN  1.0   \n",
       "278847                    0         0       0           NaN  0.0   \n",
       "\n",
       "        Known_contact_abroad  Known_contact_contact_with_confirmed  \\\n",
       "0                          1                                     0   \n",
       "1                          1                                     0   \n",
       "2                          1                                     0   \n",
       "3                          1                                     0   \n",
       "4                          0                                     1   \n",
       "...                      ...                                   ...   \n",
       "278843                     0                                     0   \n",
       "278844                     0                                     0   \n",
       "278845                     0                                     0   \n",
       "278846                     0                                     0   \n",
       "278847                     0                                     0   \n",
       "\n",
       "        Known_contact_other  \n",
       "0                         0  \n",
       "1                         0  \n",
       "2                         0  \n",
       "3                         0  \n",
       "4                         0  \n",
       "...                     ...  \n",
       "278843                    1  \n",
       "278844                    1  \n",
       "278845                    1  \n",
       "278846                    1  \n",
       "278847                    1  \n",
       "\n",
       "[274702 rows x 13 columns]"
      ]
     },
     "execution_count": 44,
     "metadata": {},
     "output_type": "execute_result"
    }
   ],
   "source": [
    "df_raw"
   ]
  },
  {
   "cell_type": "code",
   "execution_count": 45,
   "id": "0ac3af36",
   "metadata": {},
   "outputs": [],
   "source": [
    "data = df_raw.copy()"
   ]
  },
  {
   "cell_type": "code",
   "execution_count": 46,
   "id": "65122df7",
   "metadata": {},
   "outputs": [],
   "source": [
    "data.rename({'Known_contact_abroad':'abroad','Known_contact_contact_with_confirmed':'Contact_with_positive_pat'},\n",
    "           axis = 'columns',inplace = True)"
   ]
  },
  {
   "cell_type": "code",
   "execution_count": 47,
   "id": "b5faffdf",
   "metadata": {},
   "outputs": [
    {
     "data": {
      "text/html": [
       "<div>\n",
       "<style scoped>\n",
       "    .dataframe tbody tr th:only-of-type {\n",
       "        vertical-align: middle;\n",
       "    }\n",
       "\n",
       "    .dataframe tbody tr th {\n",
       "        vertical-align: top;\n",
       "    }\n",
       "\n",
       "    .dataframe thead th {\n",
       "        text-align: right;\n",
       "    }\n",
       "</style>\n",
       "<table border=\"1\" class=\"dataframe\">\n",
       "  <thead>\n",
       "    <tr style=\"text-align: right;\">\n",
       "      <th></th>\n",
       "      <th>Ind_ID</th>\n",
       "      <th>Test_date</th>\n",
       "      <th>Cough_symptoms</th>\n",
       "      <th>Fever</th>\n",
       "      <th>Sore_throat</th>\n",
       "      <th>Shortness_of_breath</th>\n",
       "      <th>Headache</th>\n",
       "      <th>Corona</th>\n",
       "      <th>Age_60_above</th>\n",
       "      <th>Sex</th>\n",
       "      <th>abroad</th>\n",
       "      <th>Contact_with_positive_pat</th>\n",
       "      <th>Known_contact_other</th>\n",
       "    </tr>\n",
       "  </thead>\n",
       "  <tbody>\n",
       "    <tr>\n",
       "      <th>0</th>\n",
       "      <td>1</td>\n",
       "      <td>11-03-2020</td>\n",
       "      <td>1</td>\n",
       "      <td>0</td>\n",
       "      <td>1</td>\n",
       "      <td>0</td>\n",
       "      <td>0</td>\n",
       "      <td>0</td>\n",
       "      <td>NaN</td>\n",
       "      <td>NaN</td>\n",
       "      <td>1</td>\n",
       "      <td>0</td>\n",
       "      <td>0</td>\n",
       "    </tr>\n",
       "    <tr>\n",
       "      <th>1</th>\n",
       "      <td>2</td>\n",
       "      <td>11-03-2020</td>\n",
       "      <td>0</td>\n",
       "      <td>1</td>\n",
       "      <td>0</td>\n",
       "      <td>0</td>\n",
       "      <td>0</td>\n",
       "      <td>1</td>\n",
       "      <td>NaN</td>\n",
       "      <td>NaN</td>\n",
       "      <td>1</td>\n",
       "      <td>0</td>\n",
       "      <td>0</td>\n",
       "    </tr>\n",
       "    <tr>\n",
       "      <th>2</th>\n",
       "      <td>3</td>\n",
       "      <td>11-03-2020</td>\n",
       "      <td>0</td>\n",
       "      <td>1</td>\n",
       "      <td>0</td>\n",
       "      <td>0</td>\n",
       "      <td>0</td>\n",
       "      <td>1</td>\n",
       "      <td>NaN</td>\n",
       "      <td>NaN</td>\n",
       "      <td>1</td>\n",
       "      <td>0</td>\n",
       "      <td>0</td>\n",
       "    </tr>\n",
       "    <tr>\n",
       "      <th>3</th>\n",
       "      <td>4</td>\n",
       "      <td>11-03-2020</td>\n",
       "      <td>1</td>\n",
       "      <td>0</td>\n",
       "      <td>0</td>\n",
       "      <td>0</td>\n",
       "      <td>0</td>\n",
       "      <td>0</td>\n",
       "      <td>NaN</td>\n",
       "      <td>NaN</td>\n",
       "      <td>1</td>\n",
       "      <td>0</td>\n",
       "      <td>0</td>\n",
       "    </tr>\n",
       "    <tr>\n",
       "      <th>4</th>\n",
       "      <td>5</td>\n",
       "      <td>11-03-2020</td>\n",
       "      <td>1</td>\n",
       "      <td>0</td>\n",
       "      <td>0</td>\n",
       "      <td>0</td>\n",
       "      <td>0</td>\n",
       "      <td>0</td>\n",
       "      <td>NaN</td>\n",
       "      <td>NaN</td>\n",
       "      <td>0</td>\n",
       "      <td>1</td>\n",
       "      <td>0</td>\n",
       "    </tr>\n",
       "  </tbody>\n",
       "</table>\n",
       "</div>"
      ],
      "text/plain": [
       "   Ind_ID   Test_date  Cough_symptoms  Fever  Sore_throat  \\\n",
       "0       1  11-03-2020               1      0            1   \n",
       "1       2  11-03-2020               0      1            0   \n",
       "2       3  11-03-2020               0      1            0   \n",
       "3       4  11-03-2020               1      0            0   \n",
       "4       5  11-03-2020               1      0            0   \n",
       "\n",
       "   Shortness_of_breath  Headache  Corona  Age_60_above  Sex  abroad  \\\n",
       "0                    0         0       0           NaN  NaN       1   \n",
       "1                    0         0       1           NaN  NaN       1   \n",
       "2                    0         0       1           NaN  NaN       1   \n",
       "3                    0         0       0           NaN  NaN       1   \n",
       "4                    0         0       0           NaN  NaN       0   \n",
       "\n",
       "   Contact_with_positive_pat  Known_contact_other  \n",
       "0                          0                    0  \n",
       "1                          0                    0  \n",
       "2                          0                    0  \n",
       "3                          0                    0  \n",
       "4                          1                    0  "
      ]
     },
     "execution_count": 47,
     "metadata": {},
     "output_type": "execute_result"
    }
   ],
   "source": [
    "data.head()"
   ]
  },
  {
   "cell_type": "code",
   "execution_count": 48,
   "id": "fa6543e0",
   "metadata": {},
   "outputs": [],
   "source": [
    "data.drop(['Known_contact_other','Test_date','Ind_ID'],axis = 1,inplace = True)"
   ]
  },
  {
   "cell_type": "code",
   "execution_count": 49,
   "id": "38c35456",
   "metadata": {},
   "outputs": [],
   "source": [
    "import missingno as msno"
   ]
  },
  {
   "cell_type": "code",
   "execution_count": 50,
   "id": "1a51946f",
   "metadata": {},
   "outputs": [
    {
     "data": {
      "text/plain": [
       "<AxesSubplot:>"
      ]
     },
     "execution_count": 50,
     "metadata": {},
     "output_type": "execute_result"
    },
    {
     "data": {
      "image/png": "[encoded data removed]",
      "text/plain": [
       "<Figure size 2500x1000 with 3 Axes>"
      ]
     },
     "metadata": {},
     "output_type": "display_data"
    }
   ],
   "source": [
    "msno.bar(data)"
   ]
  },
  {
   "cell_type": "code",
   "execution_count": 51,
   "id": "18219414",
   "metadata": {},
   "outputs": [
    {
     "data": {
      "text/plain": [
       "<AxesSubplot:>"
      ]
     },
     "execution_count": 51,
     "metadata": {},
     "output_type": "execute_result"
    },
    {
     "data": {
      "image/png": "[encoded data removed]",
      "text/plain": [
       "<Figure size 2500x1000 with 2 Axes>"
      ]
     },
     "metadata": {},
     "output_type": "display_data"
    }
   ],
   "source": [
    "msno.matrix(data)"
   ]
  },
  {
   "cell_type": "markdown",
   "id": "ddd110e2",
   "metadata": {},
   "source": [
    "# these are missing at random"
   ]
  },
  {
   "cell_type": "code",
   "execution_count": 52,
   "id": "c8e288b7",
   "metadata": {},
   "outputs": [
    {
     "data": {
      "text/plain": [
       "125659"
      ]
     },
     "execution_count": 52,
     "metadata": {},
     "output_type": "execute_result"
    }
   ],
   "source": [
    "data['Age_60_above'].isnull().sum()"
   ]
  },
  {
   "cell_type": "code",
   "execution_count": 53,
   "id": "6e40ac95",
   "metadata": {},
   "outputs": [
    {
     "name": "stdout",
     "output_type": "stream",
     "text": [
      "<class 'pandas.core.frame.DataFrame'>\n",
      "Int64Index: 274702 entries, 0 to 278847\n",
      "Data columns (total 10 columns):\n",
      " #   Column                     Non-Null Count   Dtype  \n",
      "---  ------                     --------------   -----  \n",
      " 0   Cough_symptoms             274702 non-null  int64  \n",
      " 1   Fever                      274702 non-null  int64  \n",
      " 2   Sore_throat                274702 non-null  int64  \n",
      " 3   Shortness_of_breath        274702 non-null  int64  \n",
      " 4   Headache                   274702 non-null  int64  \n",
      " 5   Corona                     274702 non-null  int64  \n",
      " 6   Age_60_above               149043 non-null  float64\n",
      " 7   Sex                        255668 non-null  float64\n",
      " 8   abroad                     274702 non-null  uint8  \n",
      " 9   Contact_with_positive_pat  274702 non-null  uint8  \n",
      "dtypes: float64(2), int64(6), uint8(2)\n",
      "memory usage: 19.4 MB\n"
     ]
    }
   ],
   "source": [
    "data.info()\n"
   ]
  },
  {
   "cell_type": "code",
   "execution_count": 54,
   "id": "18bce8aa",
   "metadata": {},
   "outputs": [
    {
     "data": {
      "text/plain": [
       "array([0, 1], dtype=int64)"
      ]
     },
     "execution_count": 54,
     "metadata": {},
     "output_type": "execute_result"
    }
   ],
   "source": [
    "data.shape\n",
    "data[\"Corona\"].unique()"
   ]
  },
  {
   "cell_type": "code",
   "execution_count": 55,
   "id": "9db20052",
   "metadata": {},
   "outputs": [
    {
     "name": "stdout",
     "output_type": "stream",
     "text": [
      "(CVXPY) Oct 06 10:29:06 AM: Encountered unexpected exception importing solver CVXOPT:\n",
      "ImportError('DLL load failed while importing base: The specified module could not be found.')\n",
      "(CVXPY) Oct 06 10:29:06 AM: Encountered unexpected exception importing solver GLPK:\n",
      "ImportError('DLL load failed while importing base: The specified module could not be found.')\n",
      "(CVXPY) Oct 06 10:29:06 AM: Encountered unexpected exception importing solver GLPK_MI:\n",
      "ImportError('DLL load failed while importing base: The specified module could not be found.')\n"
     ]
    }
   ],
   "source": [
    "from fancyimpute import IterativeImputer # importing MICE library\n",
    "MICE_imputer = IterativeImputer() # calling MICE function\n",
    "data_MICE = data.copy(deep=True) # creating copy\n",
    "data_MICE.iloc[:, :] = MICE_imputer.fit_transform(data_MICE)"
   ]
  },
  {
   "cell_type": "code",
   "execution_count": 56,
   "id": "8136e24f",
   "metadata": {},
   "outputs": [
    {
     "data": {
      "text/html": [
       "<div>\n",
       "<style scoped>\n",
       "    .dataframe tbody tr th:only-of-type {\n",
       "        vertical-align: middle;\n",
       "    }\n",
       "\n",
       "    .dataframe tbody tr th {\n",
       "        vertical-align: top;\n",
       "    }\n",
       "\n",
       "    .dataframe thead th {\n",
       "        text-align: right;\n",
       "    }\n",
       "</style>\n",
       "<table border=\"1\" class=\"dataframe\">\n",
       "  <thead>\n",
       "    <tr style=\"text-align: right;\">\n",
       "      <th></th>\n",
       "      <th>Cough_symptoms</th>\n",
       "      <th>Fever</th>\n",
       "      <th>Sore_throat</th>\n",
       "      <th>Shortness_of_breath</th>\n",
       "      <th>Headache</th>\n",
       "      <th>Corona</th>\n",
       "      <th>Age_60_above</th>\n",
       "      <th>Sex</th>\n",
       "      <th>abroad</th>\n",
       "      <th>Contact_with_positive_pat</th>\n",
       "    </tr>\n",
       "  </thead>\n",
       "  <tbody>\n",
       "    <tr>\n",
       "      <th>0</th>\n",
       "      <td>1.0</td>\n",
       "      <td>0.0</td>\n",
       "      <td>1.0</td>\n",
       "      <td>0.0</td>\n",
       "      <td>0.0</td>\n",
       "      <td>0.0</td>\n",
       "      <td>0.041683</td>\n",
       "      <td>0.437953</td>\n",
       "      <td>1.0</td>\n",
       "      <td>0.0</td>\n",
       "    </tr>\n",
       "    <tr>\n",
       "      <th>1</th>\n",
       "      <td>0.0</td>\n",
       "      <td>1.0</td>\n",
       "      <td>0.0</td>\n",
       "      <td>0.0</td>\n",
       "      <td>0.0</td>\n",
       "      <td>1.0</td>\n",
       "      <td>0.214869</td>\n",
       "      <td>0.630318</td>\n",
       "      <td>1.0</td>\n",
       "      <td>0.0</td>\n",
       "    </tr>\n",
       "    <tr>\n",
       "      <th>2</th>\n",
       "      <td>0.0</td>\n",
       "      <td>1.0</td>\n",
       "      <td>0.0</td>\n",
       "      <td>0.0</td>\n",
       "      <td>0.0</td>\n",
       "      <td>1.0</td>\n",
       "      <td>0.214869</td>\n",
       "      <td>0.630318</td>\n",
       "      <td>1.0</td>\n",
       "      <td>0.0</td>\n",
       "    </tr>\n",
       "    <tr>\n",
       "      <th>3</th>\n",
       "      <td>1.0</td>\n",
       "      <td>0.0</td>\n",
       "      <td>0.0</td>\n",
       "      <td>0.0</td>\n",
       "      <td>0.0</td>\n",
       "      <td>0.0</td>\n",
       "      <td>0.092968</td>\n",
       "      <td>0.529877</td>\n",
       "      <td>1.0</td>\n",
       "      <td>0.0</td>\n",
       "    </tr>\n",
       "    <tr>\n",
       "      <th>4</th>\n",
       "      <td>1.0</td>\n",
       "      <td>0.0</td>\n",
       "      <td>0.0</td>\n",
       "      <td>0.0</td>\n",
       "      <td>0.0</td>\n",
       "      <td>0.0</td>\n",
       "      <td>0.077293</td>\n",
       "      <td>0.470535</td>\n",
       "      <td>0.0</td>\n",
       "      <td>1.0</td>\n",
       "    </tr>\n",
       "    <tr>\n",
       "      <th>...</th>\n",
       "      <td>...</td>\n",
       "      <td>...</td>\n",
       "      <td>...</td>\n",
       "      <td>...</td>\n",
       "      <td>...</td>\n",
       "      <td>...</td>\n",
       "      <td>...</td>\n",
       "      <td>...</td>\n",
       "      <td>...</td>\n",
       "      <td>...</td>\n",
       "    </tr>\n",
       "    <tr>\n",
       "      <th>278843</th>\n",
       "      <td>0.0</td>\n",
       "      <td>0.0</td>\n",
       "      <td>0.0</td>\n",
       "      <td>0.0</td>\n",
       "      <td>0.0</td>\n",
       "      <td>1.0</td>\n",
       "      <td>0.238382</td>\n",
       "      <td>1.000000</td>\n",
       "      <td>0.0</td>\n",
       "      <td>0.0</td>\n",
       "    </tr>\n",
       "    <tr>\n",
       "      <th>278844</th>\n",
       "      <td>0.0</td>\n",
       "      <td>0.0</td>\n",
       "      <td>0.0</td>\n",
       "      <td>0.0</td>\n",
       "      <td>0.0</td>\n",
       "      <td>0.0</td>\n",
       "      <td>0.193454</td>\n",
       "      <td>0.000000</td>\n",
       "      <td>0.0</td>\n",
       "      <td>0.0</td>\n",
       "    </tr>\n",
       "    <tr>\n",
       "      <th>278845</th>\n",
       "      <td>0.0</td>\n",
       "      <td>0.0</td>\n",
       "      <td>0.0</td>\n",
       "      <td>0.0</td>\n",
       "      <td>0.0</td>\n",
       "      <td>0.0</td>\n",
       "      <td>0.161523</td>\n",
       "      <td>1.000000</td>\n",
       "      <td>0.0</td>\n",
       "      <td>0.0</td>\n",
       "    </tr>\n",
       "    <tr>\n",
       "      <th>278846</th>\n",
       "      <td>0.0</td>\n",
       "      <td>0.0</td>\n",
       "      <td>0.0</td>\n",
       "      <td>0.0</td>\n",
       "      <td>0.0</td>\n",
       "      <td>0.0</td>\n",
       "      <td>0.161523</td>\n",
       "      <td>1.000000</td>\n",
       "      <td>0.0</td>\n",
       "      <td>0.0</td>\n",
       "    </tr>\n",
       "    <tr>\n",
       "      <th>278847</th>\n",
       "      <td>0.0</td>\n",
       "      <td>0.0</td>\n",
       "      <td>0.0</td>\n",
       "      <td>0.0</td>\n",
       "      <td>0.0</td>\n",
       "      <td>0.0</td>\n",
       "      <td>0.193454</td>\n",
       "      <td>0.000000</td>\n",
       "      <td>0.0</td>\n",
       "      <td>0.0</td>\n",
       "    </tr>\n",
       "  </tbody>\n",
       "</table>\n",
       "<p>274702 rows × 10 columns</p>\n",
       "</div>"
      ],
      "text/plain": [
       "        Cough_symptoms  Fever  Sore_throat  Shortness_of_breath  Headache  \\\n",
       "0                  1.0    0.0          1.0                  0.0       0.0   \n",
       "1                  0.0    1.0          0.0                  0.0       0.0   \n",
       "2                  0.0    1.0          0.0                  0.0       0.0   \n",
       "3                  1.0    0.0          0.0                  0.0       0.0   \n",
       "4                  1.0    0.0          0.0                  0.0       0.0   \n",
       "...                ...    ...          ...                  ...       ...   \n",
       "278843             0.0    0.0          0.0                  0.0       0.0   \n",
       "278844             0.0    0.0          0.0                  0.0       0.0   \n",
       "278845             0.0    0.0          0.0                  0.0       0.0   \n",
       "278846             0.0    0.0          0.0                  0.0       0.0   \n",
       "278847             0.0    0.0          0.0                  0.0       0.0   \n",
       "\n",
       "        Corona  Age_60_above       Sex  abroad  Contact_with_positive_pat  \n",
       "0          0.0      0.041683  0.437953     1.0                        0.0  \n",
       "1          1.0      0.214869  0.630318     1.0                        0.0  \n",
       "2          1.0      0.214869  0.630318     1.0                        0.0  \n",
       "3          0.0      0.092968  0.529877     1.0                        0.0  \n",
       "4          0.0      0.077293  0.470535     0.0                        1.0  \n",
       "...        ...           ...       ...     ...                        ...  \n",
       "278843     1.0      0.238382  1.000000     0.0                        0.0  \n",
       "278844     0.0      0.193454  0.000000     0.0                        0.0  \n",
       "278845     0.0      0.161523  1.000000     0.0                        0.0  \n",
       "278846     0.0      0.161523  1.000000     0.0                        0.0  \n",
       "278847     0.0      0.193454  0.000000     0.0                        0.0  \n",
       "\n",
       "[274702 rows x 10 columns]"
      ]
     },
     "execution_count": 56,
     "metadata": {},
     "output_type": "execute_result"
    }
   ],
   "source": [
    "data_MICE"
   ]
  },
  {
   "cell_type": "code",
   "execution_count": 57,
   "id": "2041ef3d",
   "metadata": {},
   "outputs": [],
   "source": [
    "# Define a function to map values\n",
    "def map_values(value):\n",
    "    if value < 0.5:\n",
    "        return 0\n",
    "    else:\n",
    "        return 1\n",
    "\n",
    "# Apply the mapping function to all columns\n",
    "for column in data_MICE.columns:\n",
    "    if column == 'Sex' or column =='Age_60_above':\n",
    "        data_MICE[column] = data_MICE[column].apply(lambda x: map_values(x))\n",
    "        \n"
   ]
  },
  {
   "cell_type": "code",
   "execution_count": 58,
   "id": "b82beb4b",
   "metadata": {},
   "outputs": [
    {
     "data": {
      "text/plain": [
       "Cough_symptoms               2\n",
       "Fever                        2\n",
       "Sore_throat                  2\n",
       "Shortness_of_breath          2\n",
       "Headache                     2\n",
       "Corona                       2\n",
       "Age_60_above                 2\n",
       "Sex                          2\n",
       "abroad                       2\n",
       "Contact_with_positive_pat    2\n",
       "dtype: int64"
      ]
     },
     "execution_count": 58,
     "metadata": {},
     "output_type": "execute_result"
    }
   ],
   "source": [
    "data_MICE.nunique()"
   ]
  },
  {
   "cell_type": "code",
   "execution_count": 59,
   "id": "5bdfe675",
   "metadata": {},
   "outputs": [
    {
     "data": {
      "text/html": [
       "<div>\n",
       "<style scoped>\n",
       "    .dataframe tbody tr th:only-of-type {\n",
       "        vertical-align: middle;\n",
       "    }\n",
       "\n",
       "    .dataframe tbody tr th {\n",
       "        vertical-align: top;\n",
       "    }\n",
       "\n",
       "    .dataframe thead th {\n",
       "        text-align: right;\n",
       "    }\n",
       "</style>\n",
       "<table border=\"1\" class=\"dataframe\">\n",
       "  <thead>\n",
       "    <tr style=\"text-align: right;\">\n",
       "      <th></th>\n",
       "      <th>Cough_symptoms</th>\n",
       "      <th>Fever</th>\n",
       "      <th>Sore_throat</th>\n",
       "      <th>Shortness_of_breath</th>\n",
       "      <th>Headache</th>\n",
       "      <th>Age_60_above</th>\n",
       "      <th>Sex</th>\n",
       "      <th>abroad</th>\n",
       "      <th>Contact_with_positive_pat</th>\n",
       "    </tr>\n",
       "  </thead>\n",
       "  <tbody>\n",
       "    <tr>\n",
       "      <th>Cough_symptoms</th>\n",
       "      <td>1.000000</td>\n",
       "      <td>0.453797</td>\n",
       "      <td>0.115613</td>\n",
       "      <td>0.106330</td>\n",
       "      <td>0.116730</td>\n",
       "      <td>-0.007116</td>\n",
       "      <td>0.036173</td>\n",
       "      <td>0.525685</td>\n",
       "      <td>0.196275</td>\n",
       "    </tr>\n",
       "    <tr>\n",
       "      <th>Fever</th>\n",
       "      <td>0.453797</td>\n",
       "      <td>1.000000</td>\n",
       "      <td>0.122233</td>\n",
       "      <td>0.125840</td>\n",
       "      <td>0.169774</td>\n",
       "      <td>0.016315</td>\n",
       "      <td>0.042261</td>\n",
       "      <td>0.300116</td>\n",
       "      <td>0.180061</td>\n",
       "    </tr>\n",
       "    <tr>\n",
       "      <th>Sore_throat</th>\n",
       "      <td>0.115613</td>\n",
       "      <td>0.122233</td>\n",
       "      <td>1.000000</td>\n",
       "      <td>0.195181</td>\n",
       "      <td>0.323343</td>\n",
       "      <td>0.004504</td>\n",
       "      <td>-0.018248</td>\n",
       "      <td>0.031781</td>\n",
       "      <td>0.180226</td>\n",
       "    </tr>\n",
       "    <tr>\n",
       "      <th>Shortness_of_breath</th>\n",
       "      <td>0.106330</td>\n",
       "      <td>0.125840</td>\n",
       "      <td>0.195181</td>\n",
       "      <td>1.000000</td>\n",
       "      <td>0.202082</td>\n",
       "      <td>0.024065</td>\n",
       "      <td>0.006393</td>\n",
       "      <td>0.031248</td>\n",
       "      <td>0.138045</td>\n",
       "    </tr>\n",
       "    <tr>\n",
       "      <th>Headache</th>\n",
       "      <td>0.116730</td>\n",
       "      <td>0.169774</td>\n",
       "      <td>0.323343</td>\n",
       "      <td>0.202082</td>\n",
       "      <td>1.000000</td>\n",
       "      <td>0.008610</td>\n",
       "      <td>0.002009</td>\n",
       "      <td>0.018983</td>\n",
       "      <td>0.228591</td>\n",
       "    </tr>\n",
       "    <tr>\n",
       "      <th>Age_60_above</th>\n",
       "      <td>-0.007116</td>\n",
       "      <td>0.016315</td>\n",
       "      <td>0.004504</td>\n",
       "      <td>0.024065</td>\n",
       "      <td>0.008610</td>\n",
       "      <td>1.000000</td>\n",
       "      <td>-0.042819</td>\n",
       "      <td>-0.024606</td>\n",
       "      <td>0.007035</td>\n",
       "    </tr>\n",
       "    <tr>\n",
       "      <th>Sex</th>\n",
       "      <td>0.036173</td>\n",
       "      <td>0.042261</td>\n",
       "      <td>-0.018248</td>\n",
       "      <td>0.006393</td>\n",
       "      <td>0.002009</td>\n",
       "      <td>-0.042819</td>\n",
       "      <td>1.000000</td>\n",
       "      <td>0.037884</td>\n",
       "      <td>0.003313</td>\n",
       "    </tr>\n",
       "    <tr>\n",
       "      <th>abroad</th>\n",
       "      <td>0.525685</td>\n",
       "      <td>0.300116</td>\n",
       "      <td>0.031781</td>\n",
       "      <td>0.031248</td>\n",
       "      <td>0.018983</td>\n",
       "      <td>-0.024606</td>\n",
       "      <td>0.037884</td>\n",
       "      <td>1.000000</td>\n",
       "      <td>-0.063070</td>\n",
       "    </tr>\n",
       "    <tr>\n",
       "      <th>Contact_with_positive_pat</th>\n",
       "      <td>0.196275</td>\n",
       "      <td>0.180061</td>\n",
       "      <td>0.180226</td>\n",
       "      <td>0.138045</td>\n",
       "      <td>0.228591</td>\n",
       "      <td>0.007035</td>\n",
       "      <td>0.003313</td>\n",
       "      <td>-0.063070</td>\n",
       "      <td>1.000000</td>\n",
       "    </tr>\n",
       "  </tbody>\n",
       "</table>\n",
       "</div>"
      ],
      "text/plain": [
       "                           Cough_symptoms     Fever  Sore_throat  \\\n",
       "Cough_symptoms                   1.000000  0.453797     0.115613   \n",
       "Fever                            0.453797  1.000000     0.122233   \n",
       "Sore_throat                      0.115613  0.122233     1.000000   \n",
       "Shortness_of_breath              0.106330  0.125840     0.195181   \n",
       "Headache                         0.116730  0.169774     0.323343   \n",
       "Age_60_above                    -0.007116  0.016315     0.004504   \n",
       "Sex                              0.036173  0.042261    -0.018248   \n",
       "abroad                           0.525685  0.300116     0.031781   \n",
       "Contact_with_positive_pat        0.196275  0.180061     0.180226   \n",
       "\n",
       "                           Shortness_of_breath  Headache  Age_60_above  \\\n",
       "Cough_symptoms                        0.106330  0.116730     -0.007116   \n",
       "Fever                                 0.125840  0.169774      0.016315   \n",
       "Sore_throat                           0.195181  0.323343      0.004504   \n",
       "Shortness_of_breath                   1.000000  0.202082      0.024065   \n",
       "Headache                              0.202082  1.000000      0.008610   \n",
       "Age_60_above                          0.024065  0.008610      1.000000   \n",
       "Sex                                   0.006393  0.002009     -0.042819   \n",
       "abroad                                0.031248  0.018983     -0.024606   \n",
       "Contact_with_positive_pat             0.138045  0.228591      0.007035   \n",
       "\n",
       "                                Sex    abroad  Contact_with_positive_pat  \n",
       "Cough_symptoms             0.036173  0.525685                   0.196275  \n",
       "Fever                      0.042261  0.300116                   0.180061  \n",
       "Sore_throat               -0.018248  0.031781                   0.180226  \n",
       "Shortness_of_breath        0.006393  0.031248                   0.138045  \n",
       "Headache                   0.002009  0.018983                   0.228591  \n",
       "Age_60_above              -0.042819 -0.024606                   0.007035  \n",
       "Sex                        1.000000  0.037884                   0.003313  \n",
       "abroad                     0.037884  1.000000                  -0.063070  \n",
       "Contact_with_positive_pat  0.003313 -0.063070                   1.000000  "
      ]
     },
     "execution_count": 59,
     "metadata": {},
     "output_type": "execute_result"
    }
   ],
   "source": [
    "data_MICE.drop(\"Corona\",axis = 1).corr()"
   ]
  },
  {
   "cell_type": "code",
   "execution_count": 60,
   "id": "b58ebff4",
   "metadata": {},
   "outputs": [
    {
     "data": {
      "text/plain": [
       "<AxesSubplot:>"
      ]
     },
     "execution_count": 60,
     "metadata": {},
     "output_type": "execute_result"
    },
    {
     "data": {
      "image/png": "[encoded data removed]",
      "text/plain": [
       "<Figure size 1500x600 with 2 Axes>"
      ]
     },
     "metadata": {},
     "output_type": "display_data"
    }
   ],
   "source": [
    "plt.figure(figsize=(15, 6))\n",
    "sns.heatmap(data_MICE.drop(\"Corona\",axis = 1).corr(),annot = True) #heatpmap of independent varibles to check if there is a correlation"
   ]
  },
  {
   "cell_type": "markdown",
   "id": "eaac1901",
   "metadata": {},
   "source": [
    "### there is no or very less correlation between the varibales"
   ]
  },
  {
   "cell_type": "code",
   "execution_count": 61,
   "id": "3351ff8b",
   "metadata": {},
   "outputs": [],
   "source": [
    "X = data_MICE.drop(\"Corona\",axis = 1)\n",
    "y= data_MICE[\"Corona\"]"
   ]
  },
  {
   "cell_type": "code",
   "execution_count": 62,
   "id": "25768b04",
   "metadata": {},
   "outputs": [
    {
     "data": {
      "text/plain": [
       "array([0., 1.])"
      ]
     },
     "execution_count": 62,
     "metadata": {},
     "output_type": "execute_result"
    }
   ],
   "source": [
    "y.unique()"
   ]
  },
  {
   "cell_type": "code",
   "execution_count": 63,
   "id": "5f687c38",
   "metadata": {},
   "outputs": [
    {
     "data": {
      "text/plain": [
       "0         0.0\n",
       "1         1.0\n",
       "2         1.0\n",
       "3         0.0\n",
       "4         0.0\n",
       "         ... \n",
       "278843    1.0\n",
       "278844    0.0\n",
       "278845    0.0\n",
       "278846    0.0\n",
       "278847    0.0\n",
       "Name: Corona, Length: 274702, dtype: float64"
      ]
     },
     "execution_count": 63,
     "metadata": {},
     "output_type": "execute_result"
    }
   ],
   "source": [
    "y"
   ]
  },
  {
   "cell_type": "code",
   "execution_count": 64,
   "id": "2cb4f502",
   "metadata": {},
   "outputs": [
    {
     "name": "stdout",
     "output_type": "stream",
     "text": [
      "Optimization terminated successfully.\n",
      "         Current function value: 0.385659\n",
      "         Iterations 8\n",
      "                              Results: Logit\n",
      "===========================================================================\n",
      "Model:                 Logit               Pseudo R-squared:    -0.848     \n",
      "Dependent Variable:    Corona              AIC:                 211900.6155\n",
      "Date:                  2023-10-06 10:29    BIC:                 211995.3265\n",
      "No. Observations:      274702              Log-Likelihood:      -1.0594e+05\n",
      "Df Model:              8                   LL-Null:             -57321.    \n",
      "Df Residuals:          274693              LLR p-value:         1.0000     \n",
      "Converged:             1.0000              Scale:               1.0000     \n",
      "No. Iterations:        8.0000                                              \n",
      "---------------------------------------------------------------------------\n",
      "                           Coef.  Std.Err.     z     P>|z|   [0.025  0.975]\n",
      "---------------------------------------------------------------------------\n",
      "Cough_symptoms            -1.4637   0.0241  -60.6331 0.0000 -1.5111 -1.4164\n",
      "Fever                      0.6487   0.0276   23.5404 0.0000  0.5947  0.7027\n",
      "Sore_throat                2.2864   0.0893   25.6070 0.0000  2.1114  2.4614\n",
      "Shortness_of_breath        3.2186   0.0948   33.9411 0.0000  3.0328  3.4045\n",
      "Headache                   5.2808   0.1085   48.6655 0.0000  5.0682  5.4935\n",
      "Age_60_above              -2.0715   0.0264  -78.5810 0.0000 -2.1231 -2.0198\n",
      "Sex                       -3.0030   0.0139 -215.6209 0.0000 -3.0303 -2.9757\n",
      "abroad                    -1.1639   0.0312  -37.2911 0.0000 -1.2251 -1.1028\n",
      "Contact_with_positive_pat  3.2210   0.0317  101.6874 0.0000  3.1589  3.2830\n",
      "===========================================================================\n",
      "\n"
     ]
    }
   ],
   "source": [
    "import statsmodels.api as sm\n",
    "logit_model=sm.Logit(y,X)\n",
    "result=logit_model.fit()\n",
    "print(result.summary2())"
   ]
  },
  {
   "cell_type": "code",
   "execution_count": 65,
   "id": "4dbb16ed",
   "metadata": {},
   "outputs": [],
   "source": [
    "### random state train test split will be same with all people using random_state=16\n",
    "X_train, X_test, y_train, y_test = train_test_split(X, y, test_size=0.25, random_state=16)"
   ]
  },
  {
   "cell_type": "code",
   "execution_count": 66,
   "id": "0ebe1b49",
   "metadata": {},
   "outputs": [
    {
     "data": {
      "text/html": [
       "<div>\n",
       "<style scoped>\n",
       "    .dataframe tbody tr th:only-of-type {\n",
       "        vertical-align: middle;\n",
       "    }\n",
       "\n",
       "    .dataframe tbody tr th {\n",
       "        vertical-align: top;\n",
       "    }\n",
       "\n",
       "    .dataframe thead th {\n",
       "        text-align: right;\n",
       "    }\n",
       "</style>\n",
       "<table border=\"1\" class=\"dataframe\">\n",
       "  <thead>\n",
       "    <tr style=\"text-align: right;\">\n",
       "      <th></th>\n",
       "      <th>Cough_symptoms</th>\n",
       "      <th>Fever</th>\n",
       "      <th>Sore_throat</th>\n",
       "      <th>Shortness_of_breath</th>\n",
       "      <th>Headache</th>\n",
       "      <th>Age_60_above</th>\n",
       "      <th>Sex</th>\n",
       "      <th>abroad</th>\n",
       "      <th>Contact_with_positive_pat</th>\n",
       "    </tr>\n",
       "  </thead>\n",
       "  <tbody>\n",
       "    <tr>\n",
       "      <th>181410</th>\n",
       "      <td>0.0</td>\n",
       "      <td>0.0</td>\n",
       "      <td>0.0</td>\n",
       "      <td>0.0</td>\n",
       "      <td>0.0</td>\n",
       "      <td>0</td>\n",
       "      <td>0</td>\n",
       "      <td>0.0</td>\n",
       "      <td>0.0</td>\n",
       "    </tr>\n",
       "    <tr>\n",
       "      <th>27548</th>\n",
       "      <td>0.0</td>\n",
       "      <td>1.0</td>\n",
       "      <td>0.0</td>\n",
       "      <td>0.0</td>\n",
       "      <td>0.0</td>\n",
       "      <td>0</td>\n",
       "      <td>0</td>\n",
       "      <td>0.0</td>\n",
       "      <td>0.0</td>\n",
       "    </tr>\n",
       "    <tr>\n",
       "      <th>233167</th>\n",
       "      <td>0.0</td>\n",
       "      <td>0.0</td>\n",
       "      <td>0.0</td>\n",
       "      <td>0.0</td>\n",
       "      <td>0.0</td>\n",
       "      <td>0</td>\n",
       "      <td>1</td>\n",
       "      <td>0.0</td>\n",
       "      <td>0.0</td>\n",
       "    </tr>\n",
       "    <tr>\n",
       "      <th>73938</th>\n",
       "      <td>0.0</td>\n",
       "      <td>0.0</td>\n",
       "      <td>0.0</td>\n",
       "      <td>0.0</td>\n",
       "      <td>0.0</td>\n",
       "      <td>0</td>\n",
       "      <td>0</td>\n",
       "      <td>0.0</td>\n",
       "      <td>0.0</td>\n",
       "    </tr>\n",
       "    <tr>\n",
       "      <th>10158</th>\n",
       "      <td>0.0</td>\n",
       "      <td>0.0</td>\n",
       "      <td>0.0</td>\n",
       "      <td>0.0</td>\n",
       "      <td>0.0</td>\n",
       "      <td>1</td>\n",
       "      <td>0</td>\n",
       "      <td>0.0</td>\n",
       "      <td>0.0</td>\n",
       "    </tr>\n",
       "  </tbody>\n",
       "</table>\n",
       "</div>"
      ],
      "text/plain": [
       "        Cough_symptoms  Fever  Sore_throat  Shortness_of_breath  Headache  \\\n",
       "181410             0.0    0.0          0.0                  0.0       0.0   \n",
       "27548              0.0    1.0          0.0                  0.0       0.0   \n",
       "233167             0.0    0.0          0.0                  0.0       0.0   \n",
       "73938              0.0    0.0          0.0                  0.0       0.0   \n",
       "10158              0.0    0.0          0.0                  0.0       0.0   \n",
       "\n",
       "        Age_60_above  Sex  abroad  Contact_with_positive_pat  \n",
       "181410             0    0     0.0                        0.0  \n",
       "27548              0    0     0.0                        0.0  \n",
       "233167             0    1     0.0                        0.0  \n",
       "73938              0    0     0.0                        0.0  \n",
       "10158              1    0     0.0                        0.0  "
      ]
     },
     "execution_count": 66,
     "metadata": {},
     "output_type": "execute_result"
    }
   ],
   "source": [
    "X_train.head()"
   ]
  },
  {
   "cell_type": "code",
   "execution_count": 67,
   "id": "61ff32ac",
   "metadata": {},
   "outputs": [
    {
     "data": {
      "text/plain": [
       "181410    0.0\n",
       "27548     0.0\n",
       "233167    0.0\n",
       "73938     0.0\n",
       "10158     0.0\n",
       "Name: Corona, dtype: float64"
      ]
     },
     "execution_count": 67,
     "metadata": {},
     "output_type": "execute_result"
    }
   ],
   "source": [
    "y_train.head()"
   ]
  },
  {
   "cell_type": "code",
   "execution_count": 68,
   "id": "30fb2b51",
   "metadata": {},
   "outputs": [
    {
     "data": {
      "text/html": [
       "<div>\n",
       "<style scoped>\n",
       "    .dataframe tbody tr th:only-of-type {\n",
       "        vertical-align: middle;\n",
       "    }\n",
       "\n",
       "    .dataframe tbody tr th {\n",
       "        vertical-align: top;\n",
       "    }\n",
       "\n",
       "    .dataframe thead th {\n",
       "        text-align: right;\n",
       "    }\n",
       "</style>\n",
       "<table border=\"1\" class=\"dataframe\">\n",
       "  <thead>\n",
       "    <tr style=\"text-align: right;\">\n",
       "      <th></th>\n",
       "      <th>Cough_symptoms</th>\n",
       "      <th>Fever</th>\n",
       "      <th>Sore_throat</th>\n",
       "      <th>Shortness_of_breath</th>\n",
       "      <th>Headache</th>\n",
       "      <th>Age_60_above</th>\n",
       "      <th>Sex</th>\n",
       "      <th>abroad</th>\n",
       "      <th>Contact_with_positive_pat</th>\n",
       "    </tr>\n",
       "  </thead>\n",
       "  <tbody>\n",
       "    <tr>\n",
       "      <th>192471</th>\n",
       "      <td>0.0</td>\n",
       "      <td>0.0</td>\n",
       "      <td>0.0</td>\n",
       "      <td>0.0</td>\n",
       "      <td>0.0</td>\n",
       "      <td>0</td>\n",
       "      <td>1</td>\n",
       "      <td>0.0</td>\n",
       "      <td>0.0</td>\n",
       "    </tr>\n",
       "    <tr>\n",
       "      <th>125076</th>\n",
       "      <td>1.0</td>\n",
       "      <td>0.0</td>\n",
       "      <td>0.0</td>\n",
       "      <td>0.0</td>\n",
       "      <td>0.0</td>\n",
       "      <td>0</td>\n",
       "      <td>0</td>\n",
       "      <td>1.0</td>\n",
       "      <td>0.0</td>\n",
       "    </tr>\n",
       "    <tr>\n",
       "      <th>182268</th>\n",
       "      <td>0.0</td>\n",
       "      <td>0.0</td>\n",
       "      <td>0.0</td>\n",
       "      <td>0.0</td>\n",
       "      <td>0.0</td>\n",
       "      <td>0</td>\n",
       "      <td>0</td>\n",
       "      <td>0.0</td>\n",
       "      <td>0.0</td>\n",
       "    </tr>\n",
       "    <tr>\n",
       "      <th>243737</th>\n",
       "      <td>0.0</td>\n",
       "      <td>0.0</td>\n",
       "      <td>0.0</td>\n",
       "      <td>0.0</td>\n",
       "      <td>0.0</td>\n",
       "      <td>0</td>\n",
       "      <td>0</td>\n",
       "      <td>0.0</td>\n",
       "      <td>0.0</td>\n",
       "    </tr>\n",
       "    <tr>\n",
       "      <th>198907</th>\n",
       "      <td>0.0</td>\n",
       "      <td>0.0</td>\n",
       "      <td>0.0</td>\n",
       "      <td>0.0</td>\n",
       "      <td>0.0</td>\n",
       "      <td>0</td>\n",
       "      <td>0</td>\n",
       "      <td>0.0</td>\n",
       "      <td>0.0</td>\n",
       "    </tr>\n",
       "  </tbody>\n",
       "</table>\n",
       "</div>"
      ],
      "text/plain": [
       "        Cough_symptoms  Fever  Sore_throat  Shortness_of_breath  Headache  \\\n",
       "192471             0.0    0.0          0.0                  0.0       0.0   \n",
       "125076             1.0    0.0          0.0                  0.0       0.0   \n",
       "182268             0.0    0.0          0.0                  0.0       0.0   \n",
       "243737             0.0    0.0          0.0                  0.0       0.0   \n",
       "198907             0.0    0.0          0.0                  0.0       0.0   \n",
       "\n",
       "        Age_60_above  Sex  abroad  Contact_with_positive_pat  \n",
       "192471             0    1     0.0                        0.0  \n",
       "125076             0    0     1.0                        0.0  \n",
       "182268             0    0     0.0                        0.0  \n",
       "243737             0    0     0.0                        0.0  \n",
       "198907             0    0     0.0                        0.0  "
      ]
     },
     "execution_count": 68,
     "metadata": {},
     "output_type": "execute_result"
    }
   ],
   "source": [
    "X_test.head()"
   ]
  },
  {
   "cell_type": "code",
   "execution_count": 69,
   "id": "b1426368",
   "metadata": {},
   "outputs": [
    {
     "data": {
      "text/plain": [
       "192471    0.0\n",
       "125076    0.0\n",
       "182268    0.0\n",
       "243737    0.0\n",
       "198907    0.0\n",
       "         ... \n",
       "266411    0.0\n",
       "274140    0.0\n",
       "90175     0.0\n",
       "27301     0.0\n",
       "107575    0.0\n",
       "Name: Corona, Length: 68676, dtype: float64"
      ]
     },
     "execution_count": 69,
     "metadata": {},
     "output_type": "execute_result"
    }
   ],
   "source": [
    "y_test"
   ]
  },
  {
   "cell_type": "code",
   "execution_count": 70,
   "id": "8faf041c",
   "metadata": {},
   "outputs": [
    {
     "data": {
      "text/plain": [
       "((206026, 9), (206026,))"
      ]
     },
     "execution_count": 70,
     "metadata": {},
     "output_type": "execute_result"
    }
   ],
   "source": [
    "### both will have same shape\n",
    "X_train.shape, y_train.shape"
   ]
  },
  {
   "cell_type": "code",
   "execution_count": 71,
   "id": "fdb04ed4",
   "metadata": {},
   "outputs": [
    {
     "data": {
      "text/plain": [
       "((68676, 9), (68676,))"
      ]
     },
     "execution_count": 71,
     "metadata": {},
     "output_type": "execute_result"
    }
   ],
   "source": [
    "### both will have same number of rows\n",
    "X_test.shape, y_test.shape"
   ]
  },
  {
   "cell_type": "markdown",
   "id": "dc44401e",
   "metadata": {},
   "source": [
    "# Logistic reqression"
   ]
  },
  {
   "cell_type": "code",
   "execution_count": 72,
   "id": "415d3b18",
   "metadata": {},
   "outputs": [],
   "source": [
    "### Machine Learning libraries\n",
    "from sklearn.model_selection import train_test_split\n",
    "from sklearn.preprocessing import StandardScaler\n",
    "from sklearn.linear_model import LogisticRegression\n",
    "from sklearn.metrics import confusion_matrix, accuracy_score, precision_score, recall_score, fbeta_score"
   ]
  },
  {
   "cell_type": "code",
   "execution_count": 73,
   "id": "ba1e7803",
   "metadata": {},
   "outputs": [],
   "source": [
    "### Creating a Logistic regression object\n",
    "logistic_reg=LogisticRegression(random_state = 0)"
   ]
  },
  {
   "cell_type": "code",
   "execution_count": 74,
   "id": "15b80448",
   "metadata": {},
   "outputs": [
    {
     "data": {
      "text/plain": [
       "LogisticRegression(random_state=0)"
      ]
     },
     "execution_count": 74,
     "metadata": {},
     "output_type": "execute_result"
    }
   ],
   "source": [
    "### Passing independant and dependant training data to the model\n",
    "logistic_reg.fit(X_train,y_train)"
   ]
  },
  {
   "cell_type": "code",
   "execution_count": 75,
   "id": "610b036a",
   "metadata": {},
   "outputs": [
    {
     "data": {
      "text/plain": [
       "array([0., 0., 0., ..., 0., 0., 0.])"
      ]
     },
     "execution_count": 75,
     "metadata": {},
     "output_type": "execute_result"
    }
   ],
   "source": [
    "logistic_reg_pred=logistic_reg.predict(X_test)\n",
    "logistic_reg_pred"
   ]
  },
  {
   "cell_type": "code",
   "execution_count": 76,
   "id": "e88ae6ab",
   "metadata": {},
   "outputs": [
    {
     "data": {
      "text/plain": [
       "array([[64427,   575],\n",
       "       [ 1930,  1744]], dtype=int64)"
      ]
     },
     "execution_count": 76,
     "metadata": {},
     "output_type": "execute_result"
    }
   ],
   "source": [
    "confusion_mat=confusion_matrix(y_test, logistic_reg_pred)\n",
    "confusion_mat"
   ]
  },
  {
   "cell_type": "code",
   "execution_count": 77,
   "id": "849127f0",
   "metadata": {},
   "outputs": [
    {
     "name": "stdout",
     "output_type": "stream",
     "text": [
      "0.96\n"
     ]
    }
   ],
   "source": [
    "### accuracy using accuracy_score\n",
    "print(round(accuracy_score(y_test, logistic_reg_pred), 2))"
   ]
  },
  {
   "cell_type": "code",
   "execution_count": 78,
   "id": "dd41e41a",
   "metadata": {},
   "outputs": [
    {
     "name": "stdout",
     "output_type": "stream",
     "text": [
      "0.75\n"
     ]
    }
   ],
   "source": [
    "print(round(precision_score(y_test, logistic_reg_pred), 2))"
   ]
  },
  {
   "cell_type": "code",
   "execution_count": 79,
   "id": "19984cce",
   "metadata": {},
   "outputs": [
    {
     "name": "stdout",
     "output_type": "stream",
     "text": [
      "0.47\n"
     ]
    }
   ],
   "source": [
    "print(round(recall_score(y_test, logistic_reg_pred), 2))"
   ]
  },
  {
   "cell_type": "code",
   "execution_count": 80,
   "id": "bb7adbd2",
   "metadata": {},
   "outputs": [
    {
     "name": "stdout",
     "output_type": "stream",
     "text": [
      "0.58\n"
     ]
    }
   ],
   "source": [
    "from sklearn.metrics import f1_score\n",
    "print(round(f1_score(y_test, logistic_reg_pred), 2))"
   ]
  },
  {
   "cell_type": "code",
   "execution_count": 82,
   "id": "e73a5652",
   "metadata": {},
   "outputs": [
    {
     "data": {
      "text/plain": [
       "0.732920553995935"
      ]
     },
     "execution_count": 82,
     "metadata": {},
     "output_type": "execute_result"
    }
   ],
   "source": [
    "from sklearn import metrics\n",
    "auc = metrics.roc_auc_score(y_test, logistic_reg_pred)\n",
    "auc"
   ]
  },
  {
   "cell_type": "code",
   "execution_count": null,
   "id": "28cd8b8c",
   "metadata": {},
   "outputs": [],
   "source": []
  },
  {
   "cell_type": "code",
   "execution_count": null,
   "id": "3a36f978",
   "metadata": {},
   "outputs": [],
   "source": []
  },
  {
   "cell_type": "code",
   "execution_count": null,
   "id": "fe595b46",
   "metadata": {},
   "outputs": [],
   "source": []
  }
 ],
 "metadata": {
  "kernelspec": {
   "display_name": "Python 3 (ipykernel)",
   "language": "python",
   "name": "python3"
  },
  "language_info": {
   "codemirror_mode": {
    "name": "ipython",
    "version": 3
   },
   "file_extension": ".py",
   "mimetype": "text/x-python",
   "name": "python",
   "nbconvert_exporter": "python",
   "pygments_lexer": "ipython3",
   "version": "3.9.13"
  }
 },
 "nbformat": 4,
 "nbformat_minor": 5
}
